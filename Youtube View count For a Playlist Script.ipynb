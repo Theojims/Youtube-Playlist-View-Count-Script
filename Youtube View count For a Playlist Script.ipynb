{
 "cells": [
  {
   "cell_type": "code",
   "execution_count": 9,
   "id": "0654ea71",
   "metadata": {},
   "outputs": [],
   "source": [
    "from googleapiclient.discovery import build"
   ]
  },
  {
   "cell_type": "code",
   "execution_count": 12,
   "id": "f73411ba",
   "metadata": {},
   "outputs": [],
   "source": [
    "youtube =build(\"youtube\",\"v3\", developerKey=\"\") #pass in your generate developer key"
   ]
  },
  {
   "cell_type": "code",
   "execution_count": 13,
   "id": "d7bfaf17",
   "metadata": {},
   "outputs": [],
   "source": [
    "# Initialize a variable to store the token for the next page of results\n",
    "nextPageToken = None\n",
    "\n",
    "# Initialize an empty list to store data\n",
    "holder = []\n",
    "\n",
    "# Start an indefinite loop\n",
    "while True:\n",
    "    # Request playlist items from the YouTube API\n",
    "    playitem = youtube.playlistItems().list(\n",
    "        part=\"contentDetails,snippet\",\n",
    "        playlistId='PLWKjhJtqVAblStefaz_YOVpDWqcRScc2s',\n",
    "        maxResults=50,\n",
    "        pageToken=nextPageToken\n",
    "    )\n",
    "    # Execute the playlist items request\n",
    "    pl_response = playitem.execute()\n",
    "    \n",
    "    # Initialize an empty list to store video IDs\n",
    "    Video_id = []\n",
    "    \n",
    "    # Loop through each item in the playlist response\n",
    "    for item in pl_response[\"items\"]:\n",
    "        # Extract and store the video ID\n",
    "        ids = item['contentDetails']['videoId']\n",
    "        Video_id.append(ids)\n",
    "    \n",
    "    # Request video details (content details and statistics) from the YouTube API\n",
    "    video_request = youtube.videos().list(part='contentDetails,statistics', id=\",\".join(Video_id))\n",
    "    # Execute the video details request\n",
    "    video_response = video_request.execute()\n",
    "        \n",
    "    # Loop through each item in the video response\n",
    "    for item in video_response[\"items\"]:\n",
    "        # Extract and store the view count and video ID\n",
    "        count = item[\"statistics\"][\"viewCount\"]\n",
    "        link = f\"http://Youtu.be/{item['id']}\" \n",
    "        d = {\"ViewCount\": int(count), \n",
    "             \"link\": link\n",
    "            }\n",
    "        # Append the extracted data to the holder list\n",
    "        holder.append(d)\n",
    "\n",
    "    # Get the token for the next page of playlist items\n",
    "    nextPageToken = pl_response.get(\"nextPageToken\")\n",
    "    # If there are no more pages, exit the loop\n",
    "    if not nextPageToken:\n",
    "        break  # Break the loop if there are no more pages\n",
    "\n",
    "# Sort the holder list based on the \"ViewCount\" value in descending order\n",
    "holder.sort(key=lambda x: x[\"ViewCount\"], reverse=True)\n"
   ]
  },
  {
   "cell_type": "code",
   "execution_count": 14,
   "id": "f97eb2ae",
   "metadata": {},
   "outputs": [
    {
     "name": "stdout",
     "output_type": "stream",
     "text": [
      "2707612\n",
      "http://Youtu.be/tPYj3fFJGjk\n",
      "2490690\n",
      "http://Youtu.be/oXlwWbU8l2o\n",
      "1969598\n",
      "http://Youtu.be/Rs_rAxEsAvI\n",
      "1649025\n",
      "http://Youtu.be/i_LwzRVP7bg\n",
      "1456872\n",
      "http://Youtu.be/dPWYUELwIdM\n",
      "1371974\n",
      "http://Youtu.be/NWONeJKn6kc\n",
      "781866\n",
      "http://Youtu.be/qFJeN9V1ZsI\n",
      "771808\n",
      "http://Youtu.be/V_xro1bcAuA\n",
      "575201\n",
      "http://Youtu.be/VyWAvY2CF9c\n",
      "496641\n",
      "http://Youtu.be/6g4O5UOH304\n",
      "397318\n",
      "http://Youtu.be/pqNCD_5r0IU\n",
      "331810\n",
      "http://Youtu.be/0oyCUWLL_fU\n",
      "249338\n",
      "http://Youtu.be/vDDjtwQDw2k\n",
      "229123\n",
      "http://Youtu.be/0B5eIE_1vpU\n",
      "223998\n",
      "http://Youtu.be/cPOtULagNnI\n",
      "216066\n",
      "http://Youtu.be/VtRLrQ3Ev-U\n",
      "94114\n",
      "http://Youtu.be/wuSQpLinRB4\n"
     ]
    }
   ],
   "source": [
    "for i in holder:\n",
    "    print(i[\"ViewCount\"])\n",
    "    print(i[\"link\"])"
   ]
  },
  {
   "cell_type": "code",
   "execution_count": null,
   "id": "a0e0431e",
   "metadata": {},
   "outputs": [],
   "source": []
  },
  {
   "cell_type": "code",
   "execution_count": null,
   "id": "bae6da39",
   "metadata": {},
   "outputs": [],
   "source": []
  },
  {
   "cell_type": "code",
   "execution_count": null,
   "id": "93861df5",
   "metadata": {},
   "outputs": [],
   "source": []
  }
 ],
 "metadata": {
  "kernelspec": {
   "display_name": "Python 3 (ipykernel)",
   "language": "python",
   "name": "python3"
  },
  "language_info": {
   "codemirror_mode": {
    "name": "ipython",
    "version": 3
   },
   "file_extension": ".py",
   "mimetype": "text/x-python",
   "name": "python",
   "nbconvert_exporter": "python",
   "pygments_lexer": "ipython3",
   "version": "3.11.1"
  }
 },
 "nbformat": 4,
 "nbformat_minor": 5
}
